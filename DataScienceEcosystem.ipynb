{
 "cells": [
  {
   "cell_type": "markdown",
   "id": "85827a54-fb7e-4e92-986d-a144672d97c0",
   "metadata": {},
   "source": [
    "# Data Science Tools and Ecosystem"
   ]
  },
  {
   "cell_type": "markdown",
   "id": "d01d214d-e8da-4955-81ae-a6d7de9d83a8",
   "metadata": {},
   "source": [
    "## In this Notebook, Data Science Tools and Ecosystem are summarized."
   ]
  },
  {
   "cell_type": "markdown",
   "id": "4d559cb1-4f06-4352-a464-8a6c2e4f2bb7",
   "metadata": {},
   "source": [
    "## **Objectives:**\n",
    "\n",
    "- List some popular languages used by data scientists.\n",
    "- List some common libraries used by data scientists.\n",
    "- Tabulate some popularly used data science tools.\n",
    "- Introducing evaluation of arithmetic expressions using python.\n",
    "- Multiplying and then adding integers.\n",
    "- Converting hours to minutes."
   ]
  },
  {
   "cell_type": "markdown",
   "id": "eec14867-4bfe-4627-9a36-a202d7ae5a34",
   "metadata": {},
   "source": [
    "### Some of the popular languages that Data Scientists use are: \n",
    "\n",
    "1. Python\n",
    "2. SQL\n",
    "3. R\n",
    "4. Scala\n",
    "5. Julia\n",
    "\n",
    "### and many more..."
   ]
  },
  {
   "cell_type": "markdown",
   "id": "91d13df9-0674-4d76-bcab-c45e4fa41824",
   "metadata": {},
   "source": [
    "### Some of the commonly used libraries by Data Scientists include:\n",
    "\n",
    "1. Pandas\n",
    "2. NumPy\n",
    "3. PyTorch\n",
    "4. matplotlib\n",
    "\n",
    "### and many more..."
   ]
  },
  {
   "cell_type": "markdown",
   "id": "9acc4534-1a2a-4a5a-8714-02ab5efcd37d",
   "metadata": {},
   "source": [
    "|Data Science Tools|\n",
    "|------------------|\n",
    "|RStudio|\n",
    "|GitHub|\n",
    "|Jupyter Notebook|\n",
    "|Jupyter Lab|\n",
    "|GitLab|\n",
    "|MySQL, PostgreSQL|\n"
   ]
  },
  {
   "cell_type": "markdown",
   "id": "3617d933-08c3-4234-a952-b38870831ec6",
   "metadata": {},
   "source": [
    "### Below are a few examples of evaluating arithmetic expressions in python."
   ]
  },
  {
   "cell_type": "markdown",
   "id": "e9b6cf1f-c78c-42ea-bf53-45879d3c93cc",
   "metadata": {},
   "source": [
    "#### This is a simple expression to multiply then add integers."
   ]
  },
  {
   "cell_type": "code",
   "execution_count": 1,
   "id": "d02521f0-ba0f-433e-95c9-35a8faca19d8",
   "metadata": {
    "tags": []
   },
   "outputs": [
    {
     "data": {
      "text/plain": [
       "17"
      ]
     },
     "execution_count": 1,
     "metadata": {},
     "output_type": "execute_result"
    }
   ],
   "source": [
    "(3*4)+5"
   ]
  },
  {
   "cell_type": "markdown",
   "id": "1e393c07-ef05-4581-b8be-c5a497705a4d",
   "metadata": {},
   "source": [
    "### This will convert 200 minutes to hours by dividing by 60"
   ]
  },
  {
   "cell_type": "code",
   "execution_count": 2,
   "id": "eb79e584-5321-4235-a51d-d724dc5c176f",
   "metadata": {
    "tags": []
   },
   "outputs": [
    {
     "data": {
      "text/plain": [
       "3.3333333333333335"
      ]
     },
     "execution_count": 2,
     "metadata": {},
     "output_type": "execute_result"
    }
   ],
   "source": [
    "200/60"
   ]
  },
  {
   "cell_type": "markdown",
   "id": "aa1ddd9c-220d-48d1-a059-35c4e61fff98",
   "metadata": {},
   "source": [
    "## Author\n",
    "\n",
    "Roshan Ravi Kiran"
   ]
  },
  {
   "cell_type": "code",
   "execution_count": null,
   "id": "3b4bce8d-23d6-4f4d-924b-7cef89ed5d8a",
   "metadata": {},
   "outputs": [],
   "source": []
  }
 ],
 "metadata": {
  "kernelspec": {
   "display_name": "Python",
   "language": "python",
   "name": "conda-env-python-py"
  },
  "language_info": {
   "codemirror_mode": {
    "name": "ipython",
    "version": 3
   },
   "file_extension": ".py",
   "mimetype": "text/x-python",
   "name": "python",
   "nbconvert_exporter": "python",
   "pygments_lexer": "ipython3",
   "version": "3.7.12"
  }
 },
 "nbformat": 4,
 "nbformat_minor": 5
}
